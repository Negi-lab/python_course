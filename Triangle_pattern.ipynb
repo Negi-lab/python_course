{
  "nbformat": 4,
  "nbformat_minor": 0,
  "metadata": {
    "colab": {
      "provenance": [],
      "authorship_tag": "ABX9TyPhZnRE6u7Kvg/IeARBAUue",
      "include_colab_link": true
    },
    "kernelspec": {
      "name": "python3",
      "display_name": "Python 3"
    },
    "language_info": {
      "name": "python"
    }
  },
  "cells": [
    {
      "cell_type": "markdown",
      "metadata": {
        "id": "view-in-github",
        "colab_type": "text"
      },
      "source": [
        "<a href=\"https://colab.research.google.com/github/Negi-lab/python_course/blob/practice/Triangle_pattern.ipynb\" target=\"_parent\"><img src=\"https://colab.research.google.com/assets/colab-badge.svg\" alt=\"Open In Colab\"/></a>"
      ]
    },
    {
      "cell_type": "code",
      "execution_count": 8,
      "metadata": {
        "colab": {
          "base_uri": "https://localhost:8080/"
        },
        "id": "oGTYp5Jdsg12",
        "outputId": "20aca8c0-1647-4c83-b8c3-bdd609f15b4c"
      },
      "outputs": [
        {
          "output_type": "stream",
          "name": "stdout",
          "text": [
            "\n",
            "*\n",
            "**\n",
            "***\n",
            "****\n"
          ]
        }
      ],
      "source": [
        "#python practice\n",
        "\n",
        "for i in range(5):\n",
        "    print (i * \"*\")\n"
      ]
    },
    {
      "cell_type": "code",
      "source": [
        "for k in range(5):\n",
        "  l = 4 - k\n",
        "  print (l* \"*\")"
      ],
      "metadata": {
        "colab": {
          "base_uri": "https://localhost:8080/"
        },
        "id": "H0E0vG3SuNAA",
        "outputId": "d09037fe-9280-4965-cfa6-bcc6c0e9bf97"
      },
      "execution_count": 9,
      "outputs": [
        {
          "output_type": "stream",
          "name": "stdout",
          "text": [
            "****\n",
            "***\n",
            "**\n",
            "*\n",
            "\n"
          ]
        }
      ]
    },
    {
      "cell_type": "code",
      "source": [],
      "metadata": {
        "id": "JIdZsc0hvOr1"
      },
      "execution_count": null,
      "outputs": []
    }
  ]
}